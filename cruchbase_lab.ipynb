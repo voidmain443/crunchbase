version https://git-lfs.github.com/spec/v1
oid sha256:77c9c056579eca68a470351fe7493ae2d2257186ddf980fba1b75b6bcc18da9d
size 527794
