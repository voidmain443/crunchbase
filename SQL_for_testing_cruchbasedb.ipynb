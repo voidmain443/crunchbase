{
 "cells": [
  {
   "cell_type": "code",
   "execution_count": 1,
   "metadata": {},
   "outputs": [],
   "source": [
    "import modin.pandas as pd\n",
    "import requests as rq\n",
    "import sqlite3 as sql\n",
    "import pandas\n",
    "import warnings\n",
    "from multiprocessing import Pool\n",
    "\n",
    "warnings.filterwarnings('ignore', category=UserWarning)"
   ]
  },
  {
   "cell_type": "code",
   "execution_count": 2,
   "metadata": {},
   "outputs": [],
   "source": [
    "con = sql.connect('crunchbase.db')"
   ]
  },
  {
   "cell_type": "code",
   "execution_count": 3,
   "metadata": {},
   "outputs": [],
   "source": [
    "org_db = pd._to_pandas().read_sql('SELECT * FROM organizations', con)\n",
    "org_list = org_db['uuid']\n",
    "\n",
    "press_db = pd._to_pandas().read_sql('SELECT * FROM press_references', con)"
   ]
  },
  {
   "cell_type": "code",
   "execution_count": 7,
   "metadata": {},
   "outputs": [
    {
     "data": {
      "text/plain": [
       "2682476"
      ]
     },
     "execution_count": 7,
     "metadata": {},
     "output_type": "execute_result"
    }
   ],
   "source": [
    "len(org_list)"
   ]
  },
  {
   "cell_type": "code",
   "execution_count": 4,
   "metadata": {},
   "outputs": [
    {
     "data": {
      "text/plain": [
       "22         c45f8255-d447-31a2-06a0-509cda528930\n",
       "70         e193504a-91c6-f814-9812-ddfba51af7e5\n",
       "79         ac88d380-ab57-cf90-a05b-e39ff838c6f9\n",
       "113        a0a1490e-9ad3-6f89-ab4a-92fe8fd24022\n",
       "128        a4f1eb49-7a11-b7e8-6210-ba739455d709\n",
       "                           ...                 \n",
       "2682470    9bc21bc9-9232-4bd1-97b2-8784bd8da03e\n",
       "2682471    8b1be984-a9f5-42a4-aad7-6ee7977a25f4\n",
       "2682472    08ff0496-d465-4ef1-902d-855c1d6bf798\n",
       "2682474    20c5432d-eacf-4ddf-a801-2898e056e3a5\n",
       "2682475    ea93b97f-9009-43a9-b0f9-58cb6dbdb76e\n",
       "Name: uuid, Length: 2371617, dtype: object"
      ]
     },
     "execution_count": 4,
     "metadata": {},
     "output_type": "execute_result"
    }
   ],
   "source": [
    "org_list[org_list.isin(press_db['uuid'].unique()) == False]"
   ]
  },
  {
   "cell_type": "code",
   "execution_count": 5,
   "metadata": {},
   "outputs": [
    {
     "data": {
      "text/plain": [
       "3474050"
      ]
     },
     "execution_count": 5,
     "metadata": {},
     "output_type": "execute_result"
    }
   ],
   "source": [
    "len(press_db)"
   ]
  },
  {
   "cell_type": "code",
   "execution_count": 6,
   "metadata": {},
   "outputs": [
    {
     "data": {
      "text/html": [
       "<div>\n",
       "<style scoped>\n",
       "    .dataframe tbody tr th:only-of-type {\n",
       "        vertical-align: middle;\n",
       "    }\n",
       "\n",
       "    .dataframe tbody tr th {\n",
       "        vertical-align: top;\n",
       "    }\n",
       "\n",
       "    .dataframe thead th {\n",
       "        text-align: right;\n",
       "    }\n",
       "</style>\n",
       "<table border=\"1\" class=\"dataframe\">\n",
       "  <thead>\n",
       "    <tr style=\"text-align: right;\">\n",
       "      <th></th>\n",
       "      <th>url</th>\n",
       "      <th>posted_on</th>\n",
       "      <th>publisher</th>\n",
       "      <th>thumbnail_url</th>\n",
       "      <th>created_at</th>\n",
       "      <th>title</th>\n",
       "      <th>updated_at</th>\n",
       "      <th>uuid</th>\n",
       "      <th>press_uuid</th>\n",
       "      <th>author</th>\n",
       "    </tr>\n",
       "  </thead>\n",
       "  <tbody>\n",
       "    <tr>\n",
       "      <th>3474030</th>\n",
       "      <td>https://sondakikamanset.com/turkiye/mezari-ner...</td>\n",
       "      <td>2023-03-12</td>\n",
       "      <td>sondakikamanset.com</td>\n",
       "      <td>None</td>\n",
       "      <td>2023-03-16T01:33:57Z</td>\n",
       "      <td>Son Dakika Manşet</td>\n",
       "      <td>2023-03-16T01:35:29Z</td>\n",
       "      <td>3ef093dc-6905-4a03-892f-1f44ffca1bdd</td>\n",
       "      <td>4f441219-c1dc-4f34-8041-1a702e055f8f</td>\n",
       "      <td>None</td>\n",
       "    </tr>\n",
       "    <tr>\n",
       "      <th>3474031</th>\n",
       "      <td>https://sondakikagazeteler.com/genel/mezari-ne...</td>\n",
       "      <td>2023-03-12</td>\n",
       "      <td>sondakikagazeteler.com</td>\n",
       "      <td>None</td>\n",
       "      <td>2023-03-16T01:33:57Z</td>\n",
       "      <td>Son Dakika Gazeteler</td>\n",
       "      <td>2023-03-16T01:35:29Z</td>\n",
       "      <td>3ef093dc-6905-4a03-892f-1f44ffca1bdd</td>\n",
       "      <td>c62c3b34-db84-49b8-99f1-caf51ae474ad</td>\n",
       "      <td>None</td>\n",
       "    </tr>\n",
       "    <tr>\n",
       "      <th>3474032</th>\n",
       "      <td>https://sonhaberdakika.net/turkiye/mezari-nerede/</td>\n",
       "      <td>2023-03-12</td>\n",
       "      <td>sonhaberdakika.net</td>\n",
       "      <td>None</td>\n",
       "      <td>2023-03-16T01:33:57Z</td>\n",
       "      <td>Son Haber Dakika</td>\n",
       "      <td>2023-03-16T01:35:29Z</td>\n",
       "      <td>3ef093dc-6905-4a03-892f-1f44ffca1bdd</td>\n",
       "      <td>d2e1c1f3-8f9a-41ea-a000-5e097932cf90</td>\n",
       "      <td>None</td>\n",
       "    </tr>\n",
       "    <tr>\n",
       "      <th>3474033</th>\n",
       "      <td>http://professionaltales.com/bryan-legend-vulc...</td>\n",
       "      <td>2023-03-28</td>\n",
       "      <td>professionaltales.com</td>\n",
       "      <td>http://professionaltales.com/wp-content/upload...</td>\n",
       "      <td>2023-03-28T16:47:35Z</td>\n",
       "      <td>Crypto Spotlight: Bryan Legend’s Impact on DeF...</td>\n",
       "      <td>2023-03-28T16:47:35Z</td>\n",
       "      <td>3259d1a8-e46e-4d45-a814-11e9b11f66f9</td>\n",
       "      <td>c31b79a1-4420-4533-a620-8d0191c3cada</td>\n",
       "      <td>None</td>\n",
       "    </tr>\n",
       "    <tr>\n",
       "      <th>3474034</th>\n",
       "      <td>https://cryptodaily.co.uk/2023/03/bryan-legend...</td>\n",
       "      <td>2023-03-15</td>\n",
       "      <td>cryptodaily.co.uk</td>\n",
       "      <td>https://cryptodailycdn.ams3.cdn.digitaloceansp...</td>\n",
       "      <td>2023-03-16T20:24:04Z</td>\n",
       "      <td>Bryan Legend Coins “#BARS” - Vulcan Blockchain...</td>\n",
       "      <td>2023-03-16T20:24:04Z</td>\n",
       "      <td>3259d1a8-e46e-4d45-a814-11e9b11f66f9</td>\n",
       "      <td>1b4a477b-b49e-4c86-87d0-e951cb0dc392</td>\n",
       "      <td>Adrian Barkley</td>\n",
       "    </tr>\n",
       "    <tr>\n",
       "      <th>3474035</th>\n",
       "      <td>https://coinmarketcap.com/headlines/news/bryan...</td>\n",
       "      <td>2023-03-15</td>\n",
       "      <td>CoinMarketCap</td>\n",
       "      <td>http://cryptodailycdn.ams3.cdn.digitaloceanspa...</td>\n",
       "      <td>2023-03-16T20:30:55Z</td>\n",
       "      <td>Bryan Legend Coins “#BARS” - Vulcan Blockchain...</td>\n",
       "      <td>2023-03-16T20:30:55Z</td>\n",
       "      <td>3259d1a8-e46e-4d45-a814-11e9b11f66f9</td>\n",
       "      <td>eb393c8a-ac18-4246-8366-f28e93a114a3</td>\n",
       "      <td>None</td>\n",
       "    </tr>\n",
       "    <tr>\n",
       "      <th>3474036</th>\n",
       "      <td>https://www.bitcoininsider.org/article/208865/...</td>\n",
       "      <td>2023-02-27</td>\n",
       "      <td>Bitcoin Insider</td>\n",
       "      <td>https://www.bitcoininsider.org/themes/custom/m...</td>\n",
       "      <td>2023-03-16T20:27:43Z</td>\n",
       "      <td>Bryan Legend Coins “#BARS” - Vulcan Blockchain...</td>\n",
       "      <td>2023-03-16T20:27:43Z</td>\n",
       "      <td>3259d1a8-e46e-4d45-a814-11e9b11f66f9</td>\n",
       "      <td>25b9b353-a668-471a-ac35-54a311d22492</td>\n",
       "      <td>Adrian Barkley</td>\n",
       "    </tr>\n",
       "    <tr>\n",
       "      <th>3474037</th>\n",
       "      <td>https://u.today/bryan-legends-vulcan-blockchai...</td>\n",
       "      <td>2023-02-23</td>\n",
       "      <td>U.Today</td>\n",
       "      <td>https://u.today/sites/default/files/styles/736...</td>\n",
       "      <td>2023-03-16T20:31:31Z</td>\n",
       "      <td>Bryan Legend’s Vulcan Blockchain Introduces VU...</td>\n",
       "      <td>2023-03-16T20:31:31Z</td>\n",
       "      <td>3259d1a8-e46e-4d45-a814-11e9b11f66f9</td>\n",
       "      <td>4ee52a9e-6139-403f-a49c-166a55fe7313</td>\n",
       "      <td>None</td>\n",
       "    </tr>\n",
       "    <tr>\n",
       "      <th>3474038</th>\n",
       "      <td>https://bitcoinist.com/bryan-legend-the-crypto...</td>\n",
       "      <td>2023-02-09</td>\n",
       "      <td>Bitcoinist.com</td>\n",
       "      <td>https://bitcoinist.com/wp-content/uploads/2023...</td>\n",
       "      <td>2023-03-16T20:19:51Z</td>\n",
       "      <td>Bryan Legend The Crypto King Rises Again with ...</td>\n",
       "      <td>2023-03-16T20:19:51Z</td>\n",
       "      <td>3259d1a8-e46e-4d45-a814-11e9b11f66f9</td>\n",
       "      <td>742b5b12-ea40-4e7d-ac6b-3fd1acc66837</td>\n",
       "      <td>None</td>\n",
       "    </tr>\n",
       "    <tr>\n",
       "      <th>3474039</th>\n",
       "      <td>https://newsaffinity.com/bryan-legends-vision-...</td>\n",
       "      <td>2023-01-31</td>\n",
       "      <td>newsaffinity.com</td>\n",
       "      <td>https://newsaffinity.com/wp-content/uploads/20...</td>\n",
       "      <td>2023-03-16T20:27:43Z</td>\n",
       "      <td>Bryan Legend’s Vision for the Future of DeFi w...</td>\n",
       "      <td>2023-03-16T20:27:43Z</td>\n",
       "      <td>3259d1a8-e46e-4d45-a814-11e9b11f66f9</td>\n",
       "      <td>58af2e3f-21ab-4104-9d79-cf48d2d8bdda</td>\n",
       "      <td>NewsAffinity Team</td>\n",
       "    </tr>\n",
       "    <tr>\n",
       "      <th>3474040</th>\n",
       "      <td>https://news.crunchbase.com/business/svb-impac...</td>\n",
       "      <td>2023-03-17</td>\n",
       "      <td>Crunchbase News</td>\n",
       "      <td>https://news.crunchbase.com/wp-content/uploads...</td>\n",
       "      <td>2023-03-17T12:59:24Z</td>\n",
       "      <td>Survey Shows Startup Trust Damaged By Silicon ...</td>\n",
       "      <td>2023-03-17T12:59:24Z</td>\n",
       "      <td>75c7520d-aacd-43c6-a3d7-563c13e5e95e</td>\n",
       "      <td>cb932053-0f1d-4a05-b85a-0dac7dc62c8d</td>\n",
       "      <td>Guest Author</td>\n",
       "    </tr>\n",
       "    <tr>\n",
       "      <th>3474041</th>\n",
       "      <td>https://www.aninews.in/news/national/general-n...</td>\n",
       "      <td>2023-03-17</td>\n",
       "      <td>ANI News</td>\n",
       "      <td>https://aniportalimages.s3.amazonaws.com/media...</td>\n",
       "      <td>2023-03-17T15:00:38Z</td>\n",
       "      <td>Telangana AI mission declares Think Evolve Con...</td>\n",
       "      <td>2023-03-17T15:00:38Z</td>\n",
       "      <td>3180a223-456a-425c-bed3-1e7dc906181d</td>\n",
       "      <td>4b7f6b47-812d-4e71-bf77-e516c97b7599</td>\n",
       "      <td>ANI |</td>\n",
       "    </tr>\n",
       "    <tr>\n",
       "      <th>3474042</th>\n",
       "      <td>https://www.thinkevolveconsulting.com/andhrajy...</td>\n",
       "      <td>2022-12-08</td>\n",
       "      <td>Think Evolve Consultancy LLP</td>\n",
       "      <td>https://www.thinkevolveconsulting.com/wp-conte...</td>\n",
       "      <td>2023-03-17T15:00:38Z</td>\n",
       "      <td>Raksha bhandan to mother forest</td>\n",
       "      <td>2023-03-17T15:00:38Z</td>\n",
       "      <td>3180a223-456a-425c-bed3-1e7dc906181d</td>\n",
       "      <td>d3b549ae-7805-440a-9317-03a1226330f2</td>\n",
       "      <td>None</td>\n",
       "    </tr>\n",
       "    <tr>\n",
       "      <th>3474043</th>\n",
       "      <td>https://telanganatoday.com/telangana-forest-de...</td>\n",
       "      <td>2022-08-11</td>\n",
       "      <td>Telangana Today</td>\n",
       "      <td>https://image.telanganatoday.com/wp-content/up...</td>\n",
       "      <td>2023-03-17T14:58:17Z</td>\n",
       "      <td>Telangana forest department to use AI in wildl...</td>\n",
       "      <td>2023-03-17T14:58:17Z</td>\n",
       "      <td>3180a223-456a-425c-bed3-1e7dc906181d</td>\n",
       "      <td>1cf6773d-20f3-4f49-804e-a7eb3f0e257d</td>\n",
       "      <td>B. Krishna Mohan</td>\n",
       "    </tr>\n",
       "    <tr>\n",
       "      <th>3474044</th>\n",
       "      <td>https://www.sakshipost.com/news/telangana/tela...</td>\n",
       "      <td>2022-08-09</td>\n",
       "      <td>Sakshi Post</td>\n",
       "      <td>https://www.sakshipost.com/sites/default/files...</td>\n",
       "      <td>2023-03-17T14:58:17Z</td>\n",
       "      <td>Telangana AI Mission Declares Think Evolve Con...</td>\n",
       "      <td>2023-03-17T14:58:17Z</td>\n",
       "      <td>3180a223-456a-425c-bed3-1e7dc906181d</td>\n",
       "      <td>3914f6d3-cc33-4827-96b4-854dfec40cd7</td>\n",
       "      <td>None</td>\n",
       "    </tr>\n",
       "    <tr>\n",
       "      <th>3474045</th>\n",
       "      <td>https://www.thehindu.com/news/cities/Hyderabad...</td>\n",
       "      <td>2022-08-09</td>\n",
       "      <td>The Hindu</td>\n",
       "      <td>https://www.thehindu.com/theme/images/og-image...</td>\n",
       "      <td>2023-03-17T14:58:17Z</td>\n",
       "      <td>Forest AI grand challenge winner announced</td>\n",
       "      <td>2023-03-17T14:58:17Z</td>\n",
       "      <td>3180a223-456a-425c-bed3-1e7dc906181d</td>\n",
       "      <td>8643d0e2-e0a3-44dd-a9b1-3cdff433eac2</td>\n",
       "      <td>Special Correspondent</td>\n",
       "    </tr>\n",
       "    <tr>\n",
       "      <th>3474046</th>\n",
       "      <td>https://theprint.in/india/telangana-ai-mission...</td>\n",
       "      <td>2022-08-09</td>\n",
       "      <td>ThePrint</td>\n",
       "      <td>https://static.theprint.in/wp-content/plugins/...</td>\n",
       "      <td>2023-03-17T14:58:17Z</td>\n",
       "      <td>Telangana AI mission declares Think Evolve Con...</td>\n",
       "      <td>2023-03-17T14:58:17Z</td>\n",
       "      <td>3180a223-456a-425c-bed3-1e7dc906181d</td>\n",
       "      <td>94b46aa3-13cf-4536-84c6-a64aca8ca16a</td>\n",
       "      <td>ANI</td>\n",
       "    </tr>\n",
       "    <tr>\n",
       "      <th>3474047</th>\n",
       "      <td>http://ow.ly/233J50NnYjc</td>\n",
       "      <td>2023-03-21</td>\n",
       "      <td>GlobalFinTechSeries</td>\n",
       "      <td>https://globalfintechseries.com/wp-content/upl...</td>\n",
       "      <td>2023-03-22T08:14:30Z</td>\n",
       "      <td>PockBox Relaunches to Help 1 Million Americans...</td>\n",
       "      <td>2023-03-22T08:14:30Z</td>\n",
       "      <td>797602df-4990-43fe-bb30-fe2c5f81882b</td>\n",
       "      <td>290eca1e-0375-4f99-a090-f97284d702de</td>\n",
       "      <td>GlobeNewswire</td>\n",
       "    </tr>\n",
       "    <tr>\n",
       "      <th>3474048</th>\n",
       "      <td>https://finance.yahoo.com/news/pockbox-relaunc...</td>\n",
       "      <td>2023-03-17</td>\n",
       "      <td>Yahoo Finance</td>\n",
       "      <td>None</td>\n",
       "      <td>2023-03-17T18:25:07Z</td>\n",
       "      <td>PockBox Relaunches to Help 1 Million Americans...</td>\n",
       "      <td>2023-03-17T18:25:07Z</td>\n",
       "      <td>797602df-4990-43fe-bb30-fe2c5f81882b</td>\n",
       "      <td>2abfd2cd-175d-4669-928d-8189458cc43a</td>\n",
       "      <td>None</td>\n",
       "    </tr>\n",
       "    <tr>\n",
       "      <th>3474049</th>\n",
       "      <td>https://tcrn.ch/3TqsKlP</td>\n",
       "      <td>2023-03-17</td>\n",
       "      <td>TechCrunch</td>\n",
       "      <td>https://techcrunch.com/wp-content/uploads/2023...</td>\n",
       "      <td>2023-03-17T23:29:29Z</td>\n",
       "      <td>Unearthly Materials claimed to have big-name i...</td>\n",
       "      <td>2023-03-17T23:29:29Z</td>\n",
       "      <td>105a4f3f-b724-47db-bb5a-7e708c5696a1</td>\n",
       "      <td>90d85300-3674-4c7c-9803-26470bdf588e</td>\n",
       "      <td>Tim De Chant</td>\n",
       "    </tr>\n",
       "  </tbody>\n",
       "</table>\n",
       "</div>"
      ],
      "text/plain": [
       "                                                       url   posted_on  \\\n",
       "3474030  https://sondakikamanset.com/turkiye/mezari-ner...  2023-03-12   \n",
       "3474031  https://sondakikagazeteler.com/genel/mezari-ne...  2023-03-12   \n",
       "3474032  https://sonhaberdakika.net/turkiye/mezari-nerede/  2023-03-12   \n",
       "3474033  http://professionaltales.com/bryan-legend-vulc...  2023-03-28   \n",
       "3474034  https://cryptodaily.co.uk/2023/03/bryan-legend...  2023-03-15   \n",
       "3474035  https://coinmarketcap.com/headlines/news/bryan...  2023-03-15   \n",
       "3474036  https://www.bitcoininsider.org/article/208865/...  2023-02-27   \n",
       "3474037  https://u.today/bryan-legends-vulcan-blockchai...  2023-02-23   \n",
       "3474038  https://bitcoinist.com/bryan-legend-the-crypto...  2023-02-09   \n",
       "3474039  https://newsaffinity.com/bryan-legends-vision-...  2023-01-31   \n",
       "3474040  https://news.crunchbase.com/business/svb-impac...  2023-03-17   \n",
       "3474041  https://www.aninews.in/news/national/general-n...  2023-03-17   \n",
       "3474042  https://www.thinkevolveconsulting.com/andhrajy...  2022-12-08   \n",
       "3474043  https://telanganatoday.com/telangana-forest-de...  2022-08-11   \n",
       "3474044  https://www.sakshipost.com/news/telangana/tela...  2022-08-09   \n",
       "3474045  https://www.thehindu.com/news/cities/Hyderabad...  2022-08-09   \n",
       "3474046  https://theprint.in/india/telangana-ai-mission...  2022-08-09   \n",
       "3474047                           http://ow.ly/233J50NnYjc  2023-03-21   \n",
       "3474048  https://finance.yahoo.com/news/pockbox-relaunc...  2023-03-17   \n",
       "3474049                            https://tcrn.ch/3TqsKlP  2023-03-17   \n",
       "\n",
       "                            publisher  \\\n",
       "3474030           sondakikamanset.com   \n",
       "3474031        sondakikagazeteler.com   \n",
       "3474032            sonhaberdakika.net   \n",
       "3474033         professionaltales.com   \n",
       "3474034             cryptodaily.co.uk   \n",
       "3474035                 CoinMarketCap   \n",
       "3474036               Bitcoin Insider   \n",
       "3474037                       U.Today   \n",
       "3474038                Bitcoinist.com   \n",
       "3474039              newsaffinity.com   \n",
       "3474040               Crunchbase News   \n",
       "3474041                      ANI News   \n",
       "3474042  Think Evolve Consultancy LLP   \n",
       "3474043               Telangana Today   \n",
       "3474044                   Sakshi Post   \n",
       "3474045                     The Hindu   \n",
       "3474046                      ThePrint   \n",
       "3474047           GlobalFinTechSeries   \n",
       "3474048                 Yahoo Finance   \n",
       "3474049                    TechCrunch   \n",
       "\n",
       "                                             thumbnail_url  \\\n",
       "3474030                                               None   \n",
       "3474031                                               None   \n",
       "3474032                                               None   \n",
       "3474033  http://professionaltales.com/wp-content/upload...   \n",
       "3474034  https://cryptodailycdn.ams3.cdn.digitaloceansp...   \n",
       "3474035  http://cryptodailycdn.ams3.cdn.digitaloceanspa...   \n",
       "3474036  https://www.bitcoininsider.org/themes/custom/m...   \n",
       "3474037  https://u.today/sites/default/files/styles/736...   \n",
       "3474038  https://bitcoinist.com/wp-content/uploads/2023...   \n",
       "3474039  https://newsaffinity.com/wp-content/uploads/20...   \n",
       "3474040  https://news.crunchbase.com/wp-content/uploads...   \n",
       "3474041  https://aniportalimages.s3.amazonaws.com/media...   \n",
       "3474042  https://www.thinkevolveconsulting.com/wp-conte...   \n",
       "3474043  https://image.telanganatoday.com/wp-content/up...   \n",
       "3474044  https://www.sakshipost.com/sites/default/files...   \n",
       "3474045  https://www.thehindu.com/theme/images/og-image...   \n",
       "3474046  https://static.theprint.in/wp-content/plugins/...   \n",
       "3474047  https://globalfintechseries.com/wp-content/upl...   \n",
       "3474048                                               None   \n",
       "3474049  https://techcrunch.com/wp-content/uploads/2023...   \n",
       "\n",
       "                   created_at  \\\n",
       "3474030  2023-03-16T01:33:57Z   \n",
       "3474031  2023-03-16T01:33:57Z   \n",
       "3474032  2023-03-16T01:33:57Z   \n",
       "3474033  2023-03-28T16:47:35Z   \n",
       "3474034  2023-03-16T20:24:04Z   \n",
       "3474035  2023-03-16T20:30:55Z   \n",
       "3474036  2023-03-16T20:27:43Z   \n",
       "3474037  2023-03-16T20:31:31Z   \n",
       "3474038  2023-03-16T20:19:51Z   \n",
       "3474039  2023-03-16T20:27:43Z   \n",
       "3474040  2023-03-17T12:59:24Z   \n",
       "3474041  2023-03-17T15:00:38Z   \n",
       "3474042  2023-03-17T15:00:38Z   \n",
       "3474043  2023-03-17T14:58:17Z   \n",
       "3474044  2023-03-17T14:58:17Z   \n",
       "3474045  2023-03-17T14:58:17Z   \n",
       "3474046  2023-03-17T14:58:17Z   \n",
       "3474047  2023-03-22T08:14:30Z   \n",
       "3474048  2023-03-17T18:25:07Z   \n",
       "3474049  2023-03-17T23:29:29Z   \n",
       "\n",
       "                                                     title  \\\n",
       "3474030                                  Son Dakika Manşet   \n",
       "3474031                               Son Dakika Gazeteler   \n",
       "3474032                                   Son Haber Dakika   \n",
       "3474033  Crypto Spotlight: Bryan Legend’s Impact on DeF...   \n",
       "3474034  Bryan Legend Coins “#BARS” - Vulcan Blockchain...   \n",
       "3474035  Bryan Legend Coins “#BARS” - Vulcan Blockchain...   \n",
       "3474036  Bryan Legend Coins “#BARS” - Vulcan Blockchain...   \n",
       "3474037  Bryan Legend’s Vulcan Blockchain Introduces VU...   \n",
       "3474038  Bryan Legend The Crypto King Rises Again with ...   \n",
       "3474039  Bryan Legend’s Vision for the Future of DeFi w...   \n",
       "3474040  Survey Shows Startup Trust Damaged By Silicon ...   \n",
       "3474041  Telangana AI mission declares Think Evolve Con...   \n",
       "3474042                    Raksha bhandan to mother forest   \n",
       "3474043  Telangana forest department to use AI in wildl...   \n",
       "3474044  Telangana AI Mission Declares Think Evolve Con...   \n",
       "3474045         Forest AI grand challenge winner announced   \n",
       "3474046  Telangana AI mission declares Think Evolve Con...   \n",
       "3474047  PockBox Relaunches to Help 1 Million Americans...   \n",
       "3474048  PockBox Relaunches to Help 1 Million Americans...   \n",
       "3474049  Unearthly Materials claimed to have big-name i...   \n",
       "\n",
       "                   updated_at                                  uuid  \\\n",
       "3474030  2023-03-16T01:35:29Z  3ef093dc-6905-4a03-892f-1f44ffca1bdd   \n",
       "3474031  2023-03-16T01:35:29Z  3ef093dc-6905-4a03-892f-1f44ffca1bdd   \n",
       "3474032  2023-03-16T01:35:29Z  3ef093dc-6905-4a03-892f-1f44ffca1bdd   \n",
       "3474033  2023-03-28T16:47:35Z  3259d1a8-e46e-4d45-a814-11e9b11f66f9   \n",
       "3474034  2023-03-16T20:24:04Z  3259d1a8-e46e-4d45-a814-11e9b11f66f9   \n",
       "3474035  2023-03-16T20:30:55Z  3259d1a8-e46e-4d45-a814-11e9b11f66f9   \n",
       "3474036  2023-03-16T20:27:43Z  3259d1a8-e46e-4d45-a814-11e9b11f66f9   \n",
       "3474037  2023-03-16T20:31:31Z  3259d1a8-e46e-4d45-a814-11e9b11f66f9   \n",
       "3474038  2023-03-16T20:19:51Z  3259d1a8-e46e-4d45-a814-11e9b11f66f9   \n",
       "3474039  2023-03-16T20:27:43Z  3259d1a8-e46e-4d45-a814-11e9b11f66f9   \n",
       "3474040  2023-03-17T12:59:24Z  75c7520d-aacd-43c6-a3d7-563c13e5e95e   \n",
       "3474041  2023-03-17T15:00:38Z  3180a223-456a-425c-bed3-1e7dc906181d   \n",
       "3474042  2023-03-17T15:00:38Z  3180a223-456a-425c-bed3-1e7dc906181d   \n",
       "3474043  2023-03-17T14:58:17Z  3180a223-456a-425c-bed3-1e7dc906181d   \n",
       "3474044  2023-03-17T14:58:17Z  3180a223-456a-425c-bed3-1e7dc906181d   \n",
       "3474045  2023-03-17T14:58:17Z  3180a223-456a-425c-bed3-1e7dc906181d   \n",
       "3474046  2023-03-17T14:58:17Z  3180a223-456a-425c-bed3-1e7dc906181d   \n",
       "3474047  2023-03-22T08:14:30Z  797602df-4990-43fe-bb30-fe2c5f81882b   \n",
       "3474048  2023-03-17T18:25:07Z  797602df-4990-43fe-bb30-fe2c5f81882b   \n",
       "3474049  2023-03-17T23:29:29Z  105a4f3f-b724-47db-bb5a-7e708c5696a1   \n",
       "\n",
       "                                   press_uuid                 author  \n",
       "3474030  4f441219-c1dc-4f34-8041-1a702e055f8f                   None  \n",
       "3474031  c62c3b34-db84-49b8-99f1-caf51ae474ad                   None  \n",
       "3474032  d2e1c1f3-8f9a-41ea-a000-5e097932cf90                   None  \n",
       "3474033  c31b79a1-4420-4533-a620-8d0191c3cada                   None  \n",
       "3474034  1b4a477b-b49e-4c86-87d0-e951cb0dc392         Adrian Barkley  \n",
       "3474035  eb393c8a-ac18-4246-8366-f28e93a114a3                   None  \n",
       "3474036  25b9b353-a668-471a-ac35-54a311d22492         Adrian Barkley  \n",
       "3474037  4ee52a9e-6139-403f-a49c-166a55fe7313                   None  \n",
       "3474038  742b5b12-ea40-4e7d-ac6b-3fd1acc66837                   None  \n",
       "3474039  58af2e3f-21ab-4104-9d79-cf48d2d8bdda      NewsAffinity Team  \n",
       "3474040  cb932053-0f1d-4a05-b85a-0dac7dc62c8d           Guest Author  \n",
       "3474041  4b7f6b47-812d-4e71-bf77-e516c97b7599                  ANI |  \n",
       "3474042  d3b549ae-7805-440a-9317-03a1226330f2                   None  \n",
       "3474043  1cf6773d-20f3-4f49-804e-a7eb3f0e257d       B. Krishna Mohan  \n",
       "3474044  3914f6d3-cc33-4827-96b4-854dfec40cd7                   None  \n",
       "3474045  8643d0e2-e0a3-44dd-a9b1-3cdff433eac2  Special Correspondent  \n",
       "3474046  94b46aa3-13cf-4536-84c6-a64aca8ca16a                    ANI  \n",
       "3474047  290eca1e-0375-4f99-a090-f97284d702de          GlobeNewswire  \n",
       "3474048  2abfd2cd-175d-4669-928d-8189458cc43a                   None  \n",
       "3474049  90d85300-3674-4c7c-9803-26470bdf588e           Tim De Chant  "
      ]
     },
     "execution_count": 6,
     "metadata": {},
     "output_type": "execute_result"
    }
   ],
   "source": [
    "press_db.tail(20)"
   ]
  },
  {
   "cell_type": "code",
   "execution_count": 8,
   "metadata": {},
   "outputs": [],
   "source": [
    "press_db.drop_duplicates(inplace=True)"
   ]
  },
  {
   "cell_type": "code",
   "execution_count": 9,
   "metadata": {},
   "outputs": [
    {
     "data": {
      "text/plain": [
       "3460329"
      ]
     },
     "execution_count": 9,
     "metadata": {},
     "output_type": "execute_result"
    }
   ],
   "source": [
    "len(press_db)"
   ]
  },
  {
   "cell_type": "code",
   "execution_count": 11,
   "metadata": {},
   "outputs": [
    {
     "data": {
      "text/plain": [
       "3460329"
      ]
     },
     "execution_count": 11,
     "metadata": {},
     "output_type": "execute_result"
    }
   ],
   "source": [
    "press_db.to_sql('press_references', con, index=False, if_exists='replace')"
   ]
  },
  {
   "cell_type": "code",
   "execution_count": 12,
   "metadata": {},
   "outputs": [],
   "source": [
    "endpoint = 'https://api.crunchbase.com/api/v4/'\n",
    "user_key = '8c8088100fdfac696402ca0bf6065928'"
   ]
  },
  {
   "cell_type": "code",
   "execution_count": 13,
   "metadata": {},
   "outputs": [
    {
     "data": {
      "text/plain": [
       "{'properties': {'identifier': {'uuid': '9bc21bc9-9232-4bd1-97b2-8784bd8da03e',\n",
       "   'value': '5D Logistics',\n",
       "   'image_id': 'ncyhtj3eabmle0t5b7hh',\n",
       "   'permalink': '5d-logistics',\n",
       "   'entity_def_id': 'organization'}},\n",
       " 'cards': {'press_references': []}}"
      ]
     },
     "execution_count": 13,
     "metadata": {},
     "output_type": "execute_result"
    }
   ],
   "source": [
    "result = rq.get(f'{endpoint}entities/organizations/{org_list[2682470]}?card_ids=press_references&user_key=' + user_key)\n",
    "j_list = result.json()\n",
    "j_list"
   ]
  },
  {
   "cell_type": "code",
   "execution_count": 2,
   "metadata": {},
   "outputs": [],
   "source": [
    "def get_press(o):\n",
    "    result = rq.get(f'{endpoint}entities/organizations/{o}?card_ids=press_references&user_key=' + user_key)\n",
    "    j_list = result.json()\n",
    "    try:\n",
    "        j_list = j_list['cards']['press_references']\n",
    "    except:\n",
    "        return []\n",
    "    else:\n",
    "        if len(j_list) != 0:\n",
    "            for i, j in enumerate(j_list):\n",
    "                j['uuid'] = o\n",
    "                j['url'] = j['url']['value']\n",
    "                j['press_uuid'] = j['identifier']['uuid']\n",
    "                del j['activity_entities']\n",
    "                del j['identifier']\n",
    "                j_list[i] = j\n",
    "            \n",
    "            print(o)\n",
    "            return j_list\n",
    "        else:\n",
    "            return []"
   ]
  },
  {
   "cell_type": "code",
   "execution_count": 3,
   "metadata": {},
   "outputs": [],
   "source": [
    "endpoint = 'https://api.crunchbase.com/api/v4/'\n",
    "user_key = '8c8088100fdfac696402ca0bf6065928'"
   ]
  },
  {
   "cell_type": "code",
   "execution_count": 4,
   "metadata": {},
   "outputs": [],
   "source": [
    "org_db = pandas.read_sql('SELECT * FROM organizations', con)\n",
    "org_list = org_db['uuid']\n",
    "\n",
    "press_db = pandas.read_sql('SELECT * FROM press_references', con)\n",
    "last_uuid = press_db.iloc[-1]['uuid']\n",
    "\n",
    "org_list = org_list[org_list[org_list == last_uuid].index[0]:]"
   ]
  },
  {
   "cell_type": "code",
   "execution_count": 5,
   "metadata": {},
   "outputs": [
    {
     "data": {
      "text/plain": [
       "2680302    f60b2042-93a9-4315-a5ec-c37b660b18f9\n",
       "2680303    95948cfc-38b0-46c3-9300-c847103c454d\n",
       "2680304    03b9dd2f-2459-4d90-8ea7-1ab57ce264e3\n",
       "2680305    e6e894df-ff69-487a-af67-04350bda58e6\n",
       "2680306    a6ff42cf-643d-478a-8962-514bcb7107f3\n",
       "                           ...                 \n",
       "2682471    8b1be984-a9f5-42a4-aad7-6ee7977a25f4\n",
       "2682472    08ff0496-d465-4ef1-902d-855c1d6bf798\n",
       "2682473    d2e2ebdf-8ec6-4157-9a08-9a5544f2293a\n",
       "2682474    20c5432d-eacf-4ddf-a801-2898e056e3a5\n",
       "2682475    ea93b97f-9009-43a9-b0f9-58cb6dbdb76e\n",
       "Name: uuid, Length: 2174, dtype: object"
      ]
     },
     "execution_count": 5,
     "metadata": {},
     "output_type": "execute_result"
    }
   ],
   "source": [
    "org_list"
   ]
  },
  {
   "cell_type": "code",
   "execution_count": 6,
   "metadata": {},
   "outputs": [
    {
     "name": "stdout",
     "output_type": "stream",
     "text": [
      "9fee8eda-ba66-48b5-b1fb-2a4359b384a6\n",
      "1beaebff-9901-4ced-9c90-c6142e656503ad319f63-e9cd-4bcd-86de-f39e8d485ec244ca78bb-2da4-4d71-b1b0-59fd54b62fdb\n",
      "\n",
      "\n",
      "a591c03e-a924-428b-ac39-25513f529838\n",
      "e0ae41ee-cfb8-44d3-b0e8-bd4dc3849bbb\n",
      "fa49fabb-ab1c-4860-9ada-9d666d4a01a5fba01e3a-a721-476f-b99f-24316c7a72d5\n",
      "\n",
      "4444ab50-2edd-4c76-b1c7-77d3a8821937\n",
      "31f89008-71b3-41c4-8b10-2ac29330bc2a3fbd6864-6efd-4bac-896a-ac2c73a0d125\n",
      "\n",
      "93fe3073-9159-481c-8f7a-a5ffb391900f\n",
      "61a27b88-613c-41c4-9f4c-ec63260e504a\n",
      "98f048b6-a34e-42ab-a07f-9e57ef4a87df\n",
      "7785c9ea-9d5e-4391-bd44-8fface558729\n",
      "e13138ba-a556-4513-a5d0-e0a2061e124e\n",
      "dc016930-b13a-45bc-bec3-72e6e62a3cd69c926029-bb77-4eb8-b366-c29b8fd8a90c\n",
      "\n",
      "8a89fc20-2afc-41b7-bc62-32647574f4b9\n",
      "fc151a43-4007-48ae-b838-e8c7a9dd24e0\n",
      "0e367348-4d6d-4435-bc96-8fa162ad2782d987dc2f-98b9-4c43-a528-272f36773588\n",
      "\n",
      "24bf9269-e2c9-41bc-a402-c5eb6dab8147\n",
      "92f6cbca-828a-42e4-9089-0ac972df9955\n",
      "aaf9ccf0-efb4-49c7-99b1-d83beedf02a1\n",
      "cc9997bc-edb9-4681-9efe-025b00aa4d92\n"
     ]
    }
   ],
   "source": [
    "pool = Pool(32)\n",
    "json_list = pool.map(get_press, org_list[:96])"
   ]
  },
  {
   "cell_type": "code",
   "execution_count": 20,
   "metadata": {},
   "outputs": [],
   "source": [
    "import itertools\n",
    "a = list(itertools.chain(*json_list))"
   ]
  },
  {
   "cell_type": "code",
   "execution_count": 25,
   "metadata": {},
   "outputs": [],
   "source": [
    "df = pd.DataFrame(a)"
   ]
  },
  {
   "cell_type": "code",
   "execution_count": 26,
   "metadata": {},
   "outputs": [
    {
     "data": {
      "text/plain": [
       "150"
      ]
     },
     "execution_count": 26,
     "metadata": {},
     "output_type": "execute_result"
    }
   ],
   "source": [
    "df._to_pandas().to_sql('press_references', con, index=False, if_exists='append')"
   ]
  },
  {
   "cell_type": "code",
   "execution_count": null,
   "metadata": {},
   "outputs": [],
   "source": []
  }
 ],
 "metadata": {
  "kernelspec": {
   "display_name": "Python 3",
   "language": "python",
   "name": "python3"
  },
  "language_info": {
   "codemirror_mode": {
    "name": "ipython",
    "version": 3
   },
   "file_extension": ".py",
   "mimetype": "text/x-python",
   "name": "python",
   "nbconvert_exporter": "python",
   "pygments_lexer": "ipython3",
   "version": "3.10.9"
  },
  "orig_nbformat": 4
 },
 "nbformat": 4,
 "nbformat_minor": 2
}
