version https://git-lfs.github.com/spec/v1
oid sha256:69e10e84885620668dedc1e38a8dd2e6bdeb1fa691e0634acda800d1b867f88b
size 220615
