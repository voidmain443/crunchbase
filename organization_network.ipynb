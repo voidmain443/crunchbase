version https://git-lfs.github.com/spec/v1
oid sha256:dec6938ee7e88b4f175e8a031d4c7dc150c60ddcda2261f2ef59c6d7c2c9e593
size 160160
